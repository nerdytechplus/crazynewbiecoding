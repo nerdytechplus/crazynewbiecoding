{
  "nbformat": 4,
  "nbformat_minor": 0,
  "metadata": {
    "colab": {
      "provenance": [],
      "authorship_tag": "ABX9TyMcBxKdTC9Wr1njEpHKa8RI",
      "include_colab_link": true
    },
    "kernelspec": {
      "name": "python3",
      "display_name": "Python 3"
    },
    "language_info": {
      "name": "python"
    }
  },
  "cells": [
    {
      "cell_type": "markdown",
      "metadata": {
        "id": "view-in-github",
        "colab_type": "text"
      },
      "source": [
        "<a href=\"https://colab.research.google.com/github/nerdytechplus/crazynewbiecoding/blob/main/Day2.ipynb\" target=\"_parent\"><img src=\"https://colab.research.google.com/assets/colab-badge.svg\" alt=\"Open In Colab\"/></a>"
      ]
    },
    {
      "cell_type": "code",
      "source": [
        "def my_days():\n",
        "    my_days = [365*2]\n",
        "    return my_days\n",
        "\n",
        "print(my_days())\n"
      ],
      "metadata": {
        "colab": {
          "base_uri": "https://localhost:8080/"
        },
        "id": "7bixuQ-km4QC",
        "outputId": "02a483d4-f93f-46da-f2c7-3842afedda00"
      },
      "execution_count": null,
      "outputs": [
        {
          "output_type": "stream",
          "name": "stdout",
          "text": [
            "[730]\n"
          ]
        }
      ]
    },
    {
      "cell_type": "code",
      "source": [
        "from datetime import datetime\n",
        "\n",
        "# Replace with your actual birthday (Year, Month, Day)\n",
        "birthday = datetime(1984, 5, 1)  # example birthday on May 15\n",
        "christmas = datetime(2023, 12, 25)\n",
        "\n",
        "# Calculate the difference in days\n",
        "difference = christmas - birthday\n",
        "days_between = difference.days\n",
        "\n",
        "print(f\"There are {days_between} days between your birthday and Christmas.\")"
      ],
      "metadata": {
        "colab": {
          "base_uri": "https://localhost:8080/"
        },
        "id": "6t2dRf6Rq3B6",
        "outputId": "b0bd4d4c-87d3-46f3-9228-81a1931c05ad"
      },
      "execution_count": 1,
      "outputs": [
        {
          "output_type": "stream",
          "name": "stdout",
          "text": [
            "There are 14482 days between your birthday and Christmas.\n"
          ]
        }
      ]
    }
  ]
}